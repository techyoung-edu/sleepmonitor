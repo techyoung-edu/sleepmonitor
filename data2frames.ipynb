{
 "cells": [
  {
   "cell_type": "markdown",
   "metadata": {},
   "source": [
    "# 1. 导入包"
   ]
  },
  {
   "cell_type": "code",
   "execution_count": 2,
   "metadata": {},
   "outputs": [],
   "source": [
    "import numpy as np  \n",
    "import pandas as pd\n",
    "import math\n",
    "import matplotlib.pyplot as plt\n",
    "import matplotlib.axes as axes\n",
    "import seaborn as sns\n",
    "from pandas.core.frame import DataFrame\n",
    "from scipy.fftpack import fft,ifft\n",
    "from tqdm import tqdm\n",
    "from matplotlib.figure import Figure\n",
    "from matplotlib.backends.backend_agg import FigureCanvasAgg as FigureCanvas\n",
    "from matplotlib.ticker import Locator\n",
    "from matplotlib.ticker import MaxNLocator"
   ]
  },
  {
   "cell_type": "markdown",
   "metadata": {},
   "source": [
    "# 2. 加载数据文件"
   ]
  },
  {
   "cell_type": "code",
   "execution_count": 3,
   "metadata": {
    "scrolled": true
   },
   "outputs": [
    {
     "ename": "FileNotFoundError",
     "evalue": "File b'toilet.csv' does not exist",
     "output_type": "error",
     "traceback": [
      "\u001b[1;31m---------------------------------------------------------------------------\u001b[0m",
      "\u001b[1;31mFileNotFoundError\u001b[0m                         Traceback (most recent call last)",
      "\u001b[1;32m<ipython-input-3-d6277fd30f0d>\u001b[0m in \u001b[0;36m<module>\u001b[1;34m()\u001b[0m\n\u001b[0;32m      1\u001b[0m \u001b[0mdataset_name\u001b[0m \u001b[1;33m=\u001b[0m \u001b[1;34m\"Toilet\"\u001b[0m\u001b[1;33m\u001b[0m\u001b[0m\n\u001b[0;32m      2\u001b[0m \u001b[0mcsv_filename\u001b[0m \u001b[1;33m=\u001b[0m \u001b[1;34m\"toilet.csv\"\u001b[0m\u001b[1;33m\u001b[0m\u001b[0m\n\u001b[1;32m----> 3\u001b[1;33m \u001b[0mdf\u001b[0m \u001b[1;33m=\u001b[0m \u001b[0mpd\u001b[0m\u001b[1;33m.\u001b[0m\u001b[0mread_csv\u001b[0m\u001b[1;33m(\u001b[0m\u001b[0mcsv_filename\u001b[0m\u001b[1;33m,\u001b[0m \u001b[0mnames\u001b[0m\u001b[1;33m=\u001b[0m\u001b[1;33m[\u001b[0m\u001b[1;34m\"time\"\u001b[0m\u001b[1;33m,\u001b[0m \u001b[1;34m\"us\"\u001b[0m\u001b[1;33m,\u001b[0m \u001b[1;34m\"acc\"\u001b[0m\u001b[1;33m,\u001b[0m\u001b[1;34m\"ws\"\u001b[0m\u001b[1;33m,\u001b[0m\u001b[1;34m\"label\"\u001b[0m\u001b[1;33m]\u001b[0m\u001b[1;33m)\u001b[0m\u001b[1;33m\u001b[0m\u001b[0m\n\u001b[0m\u001b[0;32m      4\u001b[0m \u001b[0mdf\u001b[0m\u001b[1;33m.\u001b[0m\u001b[0mhead\u001b[0m\u001b[1;33m(\u001b[0m\u001b[1;36m5\u001b[0m\u001b[1;33m)\u001b[0m\u001b[1;33m\u001b[0m\u001b[0m\n",
      "\u001b[1;32m~\\Anaconda3\\lib\\site-packages\\pandas\\io\\parsers.py\u001b[0m in \u001b[0;36mparser_f\u001b[1;34m(filepath_or_buffer, sep, delimiter, header, names, index_col, usecols, squeeze, prefix, mangle_dupe_cols, dtype, engine, converters, true_values, false_values, skipinitialspace, skiprows, nrows, na_values, keep_default_na, na_filter, verbose, skip_blank_lines, parse_dates, infer_datetime_format, keep_date_col, date_parser, dayfirst, iterator, chunksize, compression, thousands, decimal, lineterminator, quotechar, quoting, escapechar, comment, encoding, dialect, tupleize_cols, error_bad_lines, warn_bad_lines, skipfooter, doublequote, delim_whitespace, low_memory, memory_map, float_precision)\u001b[0m\n\u001b[0;32m    676\u001b[0m                     skip_blank_lines=skip_blank_lines)\n\u001b[0;32m    677\u001b[0m \u001b[1;33m\u001b[0m\u001b[0m\n\u001b[1;32m--> 678\u001b[1;33m         \u001b[1;32mreturn\u001b[0m \u001b[0m_read\u001b[0m\u001b[1;33m(\u001b[0m\u001b[0mfilepath_or_buffer\u001b[0m\u001b[1;33m,\u001b[0m \u001b[0mkwds\u001b[0m\u001b[1;33m)\u001b[0m\u001b[1;33m\u001b[0m\u001b[0m\n\u001b[0m\u001b[0;32m    679\u001b[0m \u001b[1;33m\u001b[0m\u001b[0m\n\u001b[0;32m    680\u001b[0m     \u001b[0mparser_f\u001b[0m\u001b[1;33m.\u001b[0m\u001b[0m__name__\u001b[0m \u001b[1;33m=\u001b[0m \u001b[0mname\u001b[0m\u001b[1;33m\u001b[0m\u001b[0m\n",
      "\u001b[1;32m~\\Anaconda3\\lib\\site-packages\\pandas\\io\\parsers.py\u001b[0m in \u001b[0;36m_read\u001b[1;34m(filepath_or_buffer, kwds)\u001b[0m\n\u001b[0;32m    438\u001b[0m \u001b[1;33m\u001b[0m\u001b[0m\n\u001b[0;32m    439\u001b[0m     \u001b[1;31m# Create the parser.\u001b[0m\u001b[1;33m\u001b[0m\u001b[1;33m\u001b[0m\u001b[0m\n\u001b[1;32m--> 440\u001b[1;33m     \u001b[0mparser\u001b[0m \u001b[1;33m=\u001b[0m \u001b[0mTextFileReader\u001b[0m\u001b[1;33m(\u001b[0m\u001b[0mfilepath_or_buffer\u001b[0m\u001b[1;33m,\u001b[0m \u001b[1;33m**\u001b[0m\u001b[0mkwds\u001b[0m\u001b[1;33m)\u001b[0m\u001b[1;33m\u001b[0m\u001b[0m\n\u001b[0m\u001b[0;32m    441\u001b[0m \u001b[1;33m\u001b[0m\u001b[0m\n\u001b[0;32m    442\u001b[0m     \u001b[1;32mif\u001b[0m \u001b[0mchunksize\u001b[0m \u001b[1;32mor\u001b[0m \u001b[0miterator\u001b[0m\u001b[1;33m:\u001b[0m\u001b[1;33m\u001b[0m\u001b[0m\n",
      "\u001b[1;32m~\\Anaconda3\\lib\\site-packages\\pandas\\io\\parsers.py\u001b[0m in \u001b[0;36m__init__\u001b[1;34m(self, f, engine, **kwds)\u001b[0m\n\u001b[0;32m    785\u001b[0m             \u001b[0mself\u001b[0m\u001b[1;33m.\u001b[0m\u001b[0moptions\u001b[0m\u001b[1;33m[\u001b[0m\u001b[1;34m'has_index_names'\u001b[0m\u001b[1;33m]\u001b[0m \u001b[1;33m=\u001b[0m \u001b[0mkwds\u001b[0m\u001b[1;33m[\u001b[0m\u001b[1;34m'has_index_names'\u001b[0m\u001b[1;33m]\u001b[0m\u001b[1;33m\u001b[0m\u001b[0m\n\u001b[0;32m    786\u001b[0m \u001b[1;33m\u001b[0m\u001b[0m\n\u001b[1;32m--> 787\u001b[1;33m         \u001b[0mself\u001b[0m\u001b[1;33m.\u001b[0m\u001b[0m_make_engine\u001b[0m\u001b[1;33m(\u001b[0m\u001b[0mself\u001b[0m\u001b[1;33m.\u001b[0m\u001b[0mengine\u001b[0m\u001b[1;33m)\u001b[0m\u001b[1;33m\u001b[0m\u001b[0m\n\u001b[0m\u001b[0;32m    788\u001b[0m \u001b[1;33m\u001b[0m\u001b[0m\n\u001b[0;32m    789\u001b[0m     \u001b[1;32mdef\u001b[0m \u001b[0mclose\u001b[0m\u001b[1;33m(\u001b[0m\u001b[0mself\u001b[0m\u001b[1;33m)\u001b[0m\u001b[1;33m:\u001b[0m\u001b[1;33m\u001b[0m\u001b[0m\n",
      "\u001b[1;32m~\\Anaconda3\\lib\\site-packages\\pandas\\io\\parsers.py\u001b[0m in \u001b[0;36m_make_engine\u001b[1;34m(self, engine)\u001b[0m\n\u001b[0;32m   1012\u001b[0m     \u001b[1;32mdef\u001b[0m \u001b[0m_make_engine\u001b[0m\u001b[1;33m(\u001b[0m\u001b[0mself\u001b[0m\u001b[1;33m,\u001b[0m \u001b[0mengine\u001b[0m\u001b[1;33m=\u001b[0m\u001b[1;34m'c'\u001b[0m\u001b[1;33m)\u001b[0m\u001b[1;33m:\u001b[0m\u001b[1;33m\u001b[0m\u001b[0m\n\u001b[0;32m   1013\u001b[0m         \u001b[1;32mif\u001b[0m \u001b[0mengine\u001b[0m \u001b[1;33m==\u001b[0m \u001b[1;34m'c'\u001b[0m\u001b[1;33m:\u001b[0m\u001b[1;33m\u001b[0m\u001b[0m\n\u001b[1;32m-> 1014\u001b[1;33m             \u001b[0mself\u001b[0m\u001b[1;33m.\u001b[0m\u001b[0m_engine\u001b[0m \u001b[1;33m=\u001b[0m \u001b[0mCParserWrapper\u001b[0m\u001b[1;33m(\u001b[0m\u001b[0mself\u001b[0m\u001b[1;33m.\u001b[0m\u001b[0mf\u001b[0m\u001b[1;33m,\u001b[0m \u001b[1;33m**\u001b[0m\u001b[0mself\u001b[0m\u001b[1;33m.\u001b[0m\u001b[0moptions\u001b[0m\u001b[1;33m)\u001b[0m\u001b[1;33m\u001b[0m\u001b[0m\n\u001b[0m\u001b[0;32m   1015\u001b[0m         \u001b[1;32melse\u001b[0m\u001b[1;33m:\u001b[0m\u001b[1;33m\u001b[0m\u001b[0m\n\u001b[0;32m   1016\u001b[0m             \u001b[1;32mif\u001b[0m \u001b[0mengine\u001b[0m \u001b[1;33m==\u001b[0m \u001b[1;34m'python'\u001b[0m\u001b[1;33m:\u001b[0m\u001b[1;33m\u001b[0m\u001b[0m\n",
      "\u001b[1;32m~\\Anaconda3\\lib\\site-packages\\pandas\\io\\parsers.py\u001b[0m in \u001b[0;36m__init__\u001b[1;34m(self, src, **kwds)\u001b[0m\n\u001b[0;32m   1706\u001b[0m         \u001b[0mkwds\u001b[0m\u001b[1;33m[\u001b[0m\u001b[1;34m'usecols'\u001b[0m\u001b[1;33m]\u001b[0m \u001b[1;33m=\u001b[0m \u001b[0mself\u001b[0m\u001b[1;33m.\u001b[0m\u001b[0musecols\u001b[0m\u001b[1;33m\u001b[0m\u001b[0m\n\u001b[0;32m   1707\u001b[0m \u001b[1;33m\u001b[0m\u001b[0m\n\u001b[1;32m-> 1708\u001b[1;33m         \u001b[0mself\u001b[0m\u001b[1;33m.\u001b[0m\u001b[0m_reader\u001b[0m \u001b[1;33m=\u001b[0m \u001b[0mparsers\u001b[0m\u001b[1;33m.\u001b[0m\u001b[0mTextReader\u001b[0m\u001b[1;33m(\u001b[0m\u001b[0msrc\u001b[0m\u001b[1;33m,\u001b[0m \u001b[1;33m**\u001b[0m\u001b[0mkwds\u001b[0m\u001b[1;33m)\u001b[0m\u001b[1;33m\u001b[0m\u001b[0m\n\u001b[0m\u001b[0;32m   1709\u001b[0m \u001b[1;33m\u001b[0m\u001b[0m\n\u001b[0;32m   1710\u001b[0m         \u001b[0mpassed_names\u001b[0m \u001b[1;33m=\u001b[0m \u001b[0mself\u001b[0m\u001b[1;33m.\u001b[0m\u001b[0mnames\u001b[0m \u001b[1;32mis\u001b[0m \u001b[1;32mNone\u001b[0m\u001b[1;33m\u001b[0m\u001b[0m\n",
      "\u001b[1;32mpandas\\_libs\\parsers.pyx\u001b[0m in \u001b[0;36mpandas._libs.parsers.TextReader.__cinit__\u001b[1;34m()\u001b[0m\n",
      "\u001b[1;32mpandas\\_libs\\parsers.pyx\u001b[0m in \u001b[0;36mpandas._libs.parsers.TextReader._setup_parser_source\u001b[1;34m()\u001b[0m\n",
      "\u001b[1;31mFileNotFoundError\u001b[0m: File b'toilet.csv' does not exist"
     ]
    }
   ],
   "source": [
    "dataset_name = \"Toilet\"\n",
    "csv_filename = \"toilet.csv\"\n",
    "df = pd.read_csv(csv_filename, names=[\"time\", \"us\", \"acc\",\"ws\",\"label\"])\n",
    "df.head(5)"
   ]
  },
  {
   "cell_type": "markdown",
   "metadata": {},
   "source": [
    "# 3. 预处理数据"
   ]
  },
  {
   "cell_type": "code",
   "execution_count": null,
   "metadata": {},
   "outputs": [],
   "source": [
    "acc_list = np.array(df[\"acc\"])\n",
    "acc_time = np.array(df[\"time\"])\n",
    "acc_us = np.array(df[\"us\"])\n",
    "acc_ms = [int(ms) for ms in acc_us/1000]\n",
    "acc_list = acc_list*1000 \n",
    "acc_mean = np.mean(acc_list)\n",
    "acc_std  = np.std(acc_list)\n",
    "acc_mean_str = \"{:.2f}\".format(acc_mean)\n",
    "acc_std_str = \"{:.2f}\".format(acc_std)\n",
    "print(\"the acc dist mean:%.2fmg and std:%.2fmg\" %(acc_mean,acc_std))"
   ]
  },
  {
   "cell_type": "markdown",
   "metadata": {},
   "source": [
    "# 4. 加速度传感器矫正"
   ]
  },
  {
   "cell_type": "code",
   "execution_count": null,
   "metadata": {},
   "outputs": [],
   "source": [
    "# 加速度传感器校准用\n",
    "CONST_STATIC_WINDOW = 64\n",
    "static_mean_list = []\n",
    "static_std_list  = []\n",
    "#遍历加速度，寻找传感器安静的时间段，记录它的avg和std\n",
    "for k in tqdm(range(CONST_STATIC_WINDOW,acc_list.size,1)):\n",
    "    acc_list_slice = acc_list[k-CONST_STATIC_WINDOW:k]\n",
    "    acc_mean = np.mean(acc_list_slice)\n",
    "    acc_std  = np.std(acc_list_slice)\n",
    "    if acc_std < 3:\n",
    "        static_std_list.append(acc_std)\n",
    "        static_mean_list.append(acc_mean)"
   ]
  },
  {
   "cell_type": "markdown",
   "metadata": {},
   "source": [
    "# 5. 绘制加速度传感器在静止时候的均值-标准差分布"
   ]
  },
  {
   "cell_type": "code",
   "execution_count": 4,
   "metadata": {},
   "outputs": [
    {
     "ename": "NameError",
     "evalue": "name 'static_mean_list' is not defined",
     "output_type": "error",
     "traceback": [
      "\u001b[1;31m---------------------------------------------------------------------------\u001b[0m",
      "\u001b[1;31mNameError\u001b[0m                                 Traceback (most recent call last)",
      "\u001b[1;32m<ipython-input-4-97afa4786fef>\u001b[0m in \u001b[0;36m<module>\u001b[1;34m()\u001b[0m\n\u001b[1;32m----> 1\u001b[1;33m \u001b[0mstatic_mean\u001b[0m \u001b[1;33m=\u001b[0m \u001b[0mnp\u001b[0m\u001b[1;33m.\u001b[0m\u001b[0mmean\u001b[0m\u001b[1;33m(\u001b[0m\u001b[0mstatic_mean_list\u001b[0m\u001b[1;33m)\u001b[0m\u001b[1;33m\u001b[0m\u001b[0m\n\u001b[0m\u001b[0;32m      2\u001b[0m \u001b[0mstatic_std\u001b[0m \u001b[1;33m=\u001b[0m \u001b[0mnp\u001b[0m\u001b[1;33m.\u001b[0m\u001b[0mmean\u001b[0m\u001b[1;33m(\u001b[0m\u001b[0mstatic_std_list\u001b[0m\u001b[1;33m)\u001b[0m\u001b[1;33m\u001b[0m\u001b[0m\n\u001b[0;32m      3\u001b[0m \u001b[0mstatic_mean_str\u001b[0m \u001b[1;33m=\u001b[0m \u001b[1;34m\"{:.2f}\"\u001b[0m\u001b[1;33m.\u001b[0m\u001b[0mformat\u001b[0m\u001b[1;33m(\u001b[0m\u001b[0mstatic_mean\u001b[0m\u001b[1;33m)\u001b[0m\u001b[1;33m\u001b[0m\u001b[0m\n\u001b[0;32m      4\u001b[0m \u001b[0mstatic_std_str\u001b[0m \u001b[1;33m=\u001b[0m \u001b[1;34m\"{:.2f}\"\u001b[0m\u001b[1;33m.\u001b[0m\u001b[0mformat\u001b[0m\u001b[1;33m(\u001b[0m\u001b[0mstatic_std\u001b[0m\u001b[1;33m)\u001b[0m\u001b[1;33m\u001b[0m\u001b[0m\n\u001b[0;32m      5\u001b[0m \u001b[1;31m# print(static_std_list)\u001b[0m\u001b[1;33m\u001b[0m\u001b[1;33m\u001b[0m\u001b[0m\n",
      "\u001b[1;31mNameError\u001b[0m: name 'static_mean_list' is not defined"
     ]
    }
   ],
   "source": [
    "static_mean = np.mean(static_mean_list)\n",
    "static_std = np.mean(static_std_list)\n",
    "static_mean_str = \"{:.2f}\".format(static_mean)\n",
    "static_std_str = \"{:.2f}\".format(static_std)\n",
    "# print(static_std_list)\n",
    "bins=np.arange(np.min(static_std_list),np.max(static_std_list),0.1)\n",
    "plt.figure(figsize=(8, 8), dpi=100)\n",
    "ax = plt.subplot()\n",
    "ax.set_xlim(np.min(static_std_list), np.max(static_std_list))\n",
    "sns.kdeplot(static_std_list,static_mean_list,shade=True)\n",
    "plt.title(\"Sensor Base: mean=\"+static_mean_str+\"mg std=\"+static_std_str+\"mg\")\n",
    "plt.savefig(dataset_name+\"_static.png\")"
   ]
  },
  {
   "cell_type": "markdown",
   "metadata": {},
   "source": [
    "# 6. 矫正加速度列表"
   ]
  },
  {
   "cell_type": "code",
   "execution_count": 5,
   "metadata": {},
   "outputs": [
    {
     "ename": "NameError",
     "evalue": "name 'acc_list' is not defined",
     "output_type": "error",
     "traceback": [
      "\u001b[1;31m---------------------------------------------------------------------------\u001b[0m",
      "\u001b[1;31mNameError\u001b[0m                                 Traceback (most recent call last)",
      "\u001b[1;32m<ipython-input-5-7dbf343e53e3>\u001b[0m in \u001b[0;36m<module>\u001b[1;34m()\u001b[0m\n\u001b[1;32m----> 1\u001b[1;33m \u001b[0macc_list\u001b[0m \u001b[1;33m=\u001b[0m \u001b[0macc_list\u001b[0m \u001b[1;33m-\u001b[0m \u001b[0mstatic_mean\u001b[0m \u001b[1;31m# 将加速度列表矫正到0\u001b[0m\u001b[1;33m\u001b[0m\u001b[0m\n\u001b[0m",
      "\u001b[1;31mNameError\u001b[0m: name 'acc_list' is not defined"
     ]
    }
   ],
   "source": [
    "acc_list = acc_list - static_mean # 将加速度列表矫正到0"
   ]
  },
  {
   "cell_type": "markdown",
   "metadata": {},
   "source": [
    "# 7. 以秒为单位计算std和avg，找出最大的以判断时域波形刻度范围"
   ]
  },
  {
   "cell_type": "code",
   "execution_count": 6,
   "metadata": {},
   "outputs": [
    {
     "ename": "NameError",
     "evalue": "name 'acc_list' is not defined",
     "output_type": "error",
     "traceback": [
      "\u001b[1;31m---------------------------------------------------------------------------\u001b[0m",
      "\u001b[1;31mNameError\u001b[0m                                 Traceback (most recent call last)",
      "\u001b[1;32m<ipython-input-6-e9198c559b17>\u001b[0m in \u001b[0;36m<module>\u001b[1;34m()\u001b[0m\n\u001b[0;32m      5\u001b[0m \u001b[0macc_std_max\u001b[0m \u001b[1;33m=\u001b[0m \u001b[0mfloat\u001b[0m\u001b[1;33m(\u001b[0m\u001b[1;33m)\u001b[0m\u001b[1;33m\u001b[0m\u001b[0m\n\u001b[0;32m      6\u001b[0m \u001b[1;31m#遍历加速度，寻找传感器安静的时间段，记录它的avg和std\u001b[0m\u001b[1;33m\u001b[0m\u001b[1;33m\u001b[0m\u001b[0m\n\u001b[1;32m----> 7\u001b[1;33m \u001b[1;32mfor\u001b[0m \u001b[0mk\u001b[0m \u001b[1;32min\u001b[0m \u001b[0mtqdm\u001b[0m\u001b[1;33m(\u001b[0m\u001b[0mrange\u001b[0m\u001b[1;33m(\u001b[0m\u001b[0mSECOND_WINDOW\u001b[0m\u001b[1;33m,\u001b[0m\u001b[0macc_list\u001b[0m\u001b[1;33m.\u001b[0m\u001b[0msize\u001b[0m\u001b[1;33m,\u001b[0m\u001b[0mSECOND_WINDOW\u001b[0m\u001b[1;33m)\u001b[0m\u001b[1;33m)\u001b[0m\u001b[1;33m:\u001b[0m\u001b[1;33m\u001b[0m\u001b[0m\n\u001b[0m\u001b[0;32m      8\u001b[0m     \u001b[0macc_list_slice\u001b[0m \u001b[1;33m=\u001b[0m \u001b[0macc_list\u001b[0m\u001b[1;33m[\u001b[0m\u001b[0mk\u001b[0m\u001b[1;33m-\u001b[0m\u001b[0mSECOND_WINDOW\u001b[0m\u001b[1;33m:\u001b[0m\u001b[0mk\u001b[0m\u001b[1;33m-\u001b[0m\u001b[1;36m1\u001b[0m\u001b[1;33m]\u001b[0m\u001b[1;33m\u001b[0m\u001b[0m\n\u001b[0;32m      9\u001b[0m     \u001b[0macc_mean_max\u001b[0m \u001b[1;33m=\u001b[0m \u001b[0macc_mean_max\u001b[0m \u001b[1;32mif\u001b[0m\u001b[1;33m(\u001b[0m\u001b[0macc_mean_max\u001b[0m\u001b[1;33m>\u001b[0m\u001b[0mnp\u001b[0m\u001b[1;33m.\u001b[0m\u001b[0mmean\u001b[0m\u001b[1;33m(\u001b[0m\u001b[0macc_list_slice\u001b[0m\u001b[1;33m)\u001b[0m\u001b[1;33m)\u001b[0m \u001b[1;32melse\u001b[0m \u001b[0mnp\u001b[0m\u001b[1;33m.\u001b[0m\u001b[0mmean\u001b[0m\u001b[1;33m(\u001b[0m\u001b[0macc_list_slice\u001b[0m\u001b[1;33m)\u001b[0m\u001b[1;33m\u001b[0m\u001b[0m\n",
      "\u001b[1;31mNameError\u001b[0m: name 'acc_list' is not defined"
     ]
    }
   ],
   "source": [
    "SECOND_WINDOW = 32# sample rate 32\n",
    "second_mean_list = []\n",
    "second_std_list  = []\n",
    "acc_mean_max = float()\n",
    "acc_std_max = float()\n",
    "#遍历加速度，寻找传感器安静的时间段，记录它的avg和std\n",
    "for k in tqdm(range(SECOND_WINDOW,acc_list.size,SECOND_WINDOW)):\n",
    "    acc_list_slice = acc_list[k-SECOND_WINDOW:k-1]\n",
    "    acc_mean_max = acc_mean_max if(acc_mean_max>np.mean(acc_list_slice)) else np.mean(acc_list_slice)\n",
    "    acc_std_max  = acc_std_max if(acc_std_max>np.std(acc_list_slice)) else np.std(acc_list_slice)\n",
    "    second_mean_list.append(np.mean(acc_list_slice))\n",
    "    second_std_list.append(np.std(acc_list_slice))\n",
    "\n",
    "acc_mean_str = \"{:.2f}\".format(acc_mean_max)\n",
    "acc_std_str = \"{:.2f}\".format(acc_std_max)\n",
    "# print(static_std_list)\n",
    "bins=np.arange(np.min(second_std_list),np.max(second_std_list),0.1)\n",
    "plt.figure(figsize=(8, 8), dpi=100)\n",
    "ax = plt.subplot()\n",
    "ax.set_xlim(np.min(second_std_list), np.max(second_std_list))\n",
    "sns.kdeplot(second_std_list,second_mean_list,shade=True)\n",
    "plt.title(\"max_mean=\"+acc_mean_str+\"mg max_std=\"+acc_std_str+\"mg\")\n",
    "plt.savefig(dataset_name+\"_dist_std_and_mean.png\")"
   ]
  },
  {
   "cell_type": "markdown",
   "metadata": {},
   "source": [
    "# 8. 以1024个点为单位遍历一次，找FFT的直流分量大小"
   ]
  },
  {
   "cell_type": "code",
   "execution_count": 7,
   "metadata": {},
   "outputs": [
    {
     "ename": "NameError",
     "evalue": "name 'acc_list' is not defined",
     "output_type": "error",
     "traceback": [
      "\u001b[1;31m---------------------------------------------------------------------------\u001b[0m",
      "\u001b[1;31mNameError\u001b[0m                                 Traceback (most recent call last)",
      "\u001b[1;32m<ipython-input-7-35232d8db9d8>\u001b[0m in \u001b[0;36m<module>\u001b[1;34m()\u001b[0m\n\u001b[0;32m      1\u001b[0m \u001b[0mFFT\u001b[0m \u001b[1;33m=\u001b[0m \u001b[0mlist\u001b[0m\u001b[1;33m(\u001b[0m\u001b[1;33m)\u001b[0m\u001b[1;33m\u001b[0m\u001b[0m\n\u001b[1;32m----> 2\u001b[1;33m \u001b[1;32mfor\u001b[0m \u001b[0mi\u001b[0m \u001b[1;32min\u001b[0m \u001b[0mrange\u001b[0m\u001b[1;33m(\u001b[0m\u001b[1;36m0\u001b[0m\u001b[1;33m,\u001b[0m\u001b[0mlen\u001b[0m\u001b[1;33m(\u001b[0m\u001b[0macc_list\u001b[0m\u001b[1;33m)\u001b[0m\u001b[1;33m)\u001b[0m\u001b[1;33m:\u001b[0m\u001b[1;33m\u001b[0m\u001b[0m\n\u001b[0m\u001b[0;32m      3\u001b[0m \u001b[1;31m#     if FFT_0<np.mean(acc_list[i:i+32]):\u001b[0m\u001b[1;33m\u001b[0m\u001b[1;33m\u001b[0m\u001b[0m\n\u001b[0;32m      4\u001b[0m     \u001b[0mFFT\u001b[0m\u001b[1;33m.\u001b[0m\u001b[0mappend\u001b[0m\u001b[1;33m(\u001b[0m\u001b[0mnp\u001b[0m\u001b[1;33m.\u001b[0m\u001b[0mmean\u001b[0m\u001b[1;33m(\u001b[0m\u001b[0macc_list\u001b[0m\u001b[1;33m[\u001b[0m\u001b[0mi\u001b[0m\u001b[1;33m:\u001b[0m\u001b[0mi\u001b[0m\u001b[1;33m+\u001b[0m\u001b[1;36m1024\u001b[0m\u001b[1;33m]\u001b[0m\u001b[1;33m)\u001b[0m\u001b[1;33m)\u001b[0m\u001b[1;33m\u001b[0m\u001b[0m\n\u001b[0;32m      5\u001b[0m \u001b[1;31m#     print(np.mean(acc_list[i:i+32]),i)\u001b[0m\u001b[1;33m\u001b[0m\u001b[1;33m\u001b[0m\u001b[0m\n",
      "\u001b[1;31mNameError\u001b[0m: name 'acc_list' is not defined"
     ]
    }
   ],
   "source": [
    "FFT = list()\n",
    "for i in range(0,len(acc_list)):\n",
    "#     if FFT_0<np.mean(acc_list[i:i+32]):\n",
    "    FFT.append(np.mean(acc_list[i:i+1024]))\n",
    "#     print(np.mean(acc_list[i:i+32]),i)\n",
    "np.mean(FFT)"
   ]
  },
  {
   "cell_type": "markdown",
   "metadata": {},
   "source": [
    "# 9. 开始画图"
   ]
  },
  {
   "cell_type": "code",
   "execution_count": 8,
   "metadata": {},
   "outputs": [],
   "source": [
    "fig= Figure(figsize=[25.6,14.4],dpi=100,facecolor=\"black\",edgecolor=\"#BEBEBE\")\n",
    "canvas = FigureCanvas(fig)\n",
    "ax_chart_32s = fig.add_axes([100/2560,970/1440,1250/2560,420/1440])\n",
    "ax_chart_1s = fig.add_axes([1510/2560,970/1440,372/2560,420/1440])\n",
    "\n",
    "ax_violin = fig.add_axes([1510/2560,510/1440,372/2560,412/1440])\n",
    "ax_violins = fig.add_axes([100/2560,510/1440,1350/2560,412/1440])\n",
    "\n",
    "ax_FFT = fig.add_axes([100/2560,50/1440,1350/2560,406/1440])\n",
    "\n",
    "ax_kde_1 = fig.add_axes([1510/2560,50/1440,405/2560,405/1440])\n",
    "ax_kde_2 = fig.add_axes([1975/2560,50/1440,531/2560,405/1440])\n",
    "\n",
    "ax_video = fig.add_axes([1975/2560,476/1440,531/2560,944/1440])#[x,y,width,height] y in range of 456 and 496\n",
    "canvas.print_figure(\"123.png\")\n",
    "fig.savefig(\"sample.png\",facecolor=fig.get_facecolor(),edgecolor=fig.get_edgecolor())"
   ]
  },
  {
   "cell_type": "code",
   "execution_count": 9,
   "metadata": {},
   "outputs": [
    {
     "ename": "ValueError",
     "evalue": "math domain error",
     "output_type": "error",
     "traceback": [
      "\u001b[1;31m---------------------------------------------------------------------------\u001b[0m",
      "\u001b[1;31mValueError\u001b[0m                                Traceback (most recent call last)",
      "\u001b[1;32m<ipython-input-9-248415e145a9>\u001b[0m in \u001b[0;36m<module>\u001b[1;34m()\u001b[0m\n\u001b[1;32m----> 1\u001b[1;33m \u001b[0mCONST_ACC_MAX\u001b[0m \u001b[1;33m=\u001b[0m \u001b[0mmath\u001b[0m\u001b[1;33m.\u001b[0m\u001b[0mpow\u001b[0m\u001b[1;33m(\u001b[0m\u001b[1;36m2\u001b[0m\u001b[1;33m,\u001b[0m \u001b[0mint\u001b[0m\u001b[1;33m(\u001b[0m\u001b[0mmath\u001b[0m\u001b[1;33m.\u001b[0m\u001b[0mlog\u001b[0m\u001b[1;33m(\u001b[0m\u001b[0macc_mean_max\u001b[0m \u001b[1;33m+\u001b[0m \u001b[1;36m4\u001b[0m \u001b[1;33m*\u001b[0m \u001b[0macc_std_max\u001b[0m\u001b[1;33m,\u001b[0m \u001b[1;36m2\u001b[0m\u001b[1;33m)\u001b[0m\u001b[1;33m)\u001b[0m \u001b[1;33m+\u001b[0m \u001b[1;36m1\u001b[0m\u001b[1;33m)\u001b[0m\u001b[1;33m\u001b[0m\u001b[0m\n\u001b[0m\u001b[0;32m      2\u001b[0m \u001b[0mCONST_ACC_MAX\u001b[0m\u001b[1;33m\u001b[0m\u001b[0m\n",
      "\u001b[1;31mValueError\u001b[0m: math domain error"
     ]
    }
   ],
   "source": [
    "CONST_ACC_MAX = math.pow(2, int(math.log(acc_mean_max + 4 * acc_std_max, 2)) + 1)\n",
    "CONST_ACC_MAX"
   ]
  },
  {
   "cell_type": "markdown",
   "metadata": {},
   "source": [
    "# 使用seaborn画violin"
   ]
  },
  {
   "cell_type": "code",
   "execution_count": 1,
   "metadata": {},
   "outputs": [
    {
     "ename": "NameError",
     "evalue": "name 'tqdm' is not defined",
     "output_type": "error",
     "traceback": [
      "\u001b[1;31m---------------------------------------------------------------------------\u001b[0m",
      "\u001b[1;31mNameError\u001b[0m                                 Traceback (most recent call last)",
      "\u001b[1;32m<ipython-input-1-efffff3dc402>\u001b[0m in \u001b[0;36m<module>\u001b[1;34m()\u001b[0m\n\u001b[0;32m     42\u001b[0m             \u001b[0mresult\u001b[0m\u001b[1;33m[\u001b[0m\u001b[0mkey\u001b[0m\u001b[1;33m]\u001b[0m\u001b[1;33m.\u001b[0m\u001b[0mset_color\u001b[0m\u001b[1;33m(\u001b[0m\u001b[1;34m''\u001b[0m\u001b[1;33m)\u001b[0m\u001b[1;33m\u001b[0m\u001b[0m\n\u001b[0;32m     43\u001b[0m \u001b[1;33m\u001b[0m\u001b[0m\n\u001b[1;32m---> 44\u001b[1;33m \u001b[1;32mfor\u001b[0m \u001b[0mk\u001b[0m \u001b[1;32min\u001b[0m \u001b[0mtqdm\u001b[0m\u001b[1;33m(\u001b[0m\u001b[0mrange\u001b[0m\u001b[1;33m(\u001b[0m\u001b[0mCONST_MIN_K\u001b[0m\u001b[1;33m,\u001b[0m \u001b[0macc_list\u001b[0m\u001b[1;33m.\u001b[0m\u001b[0msize\u001b[0m\u001b[1;33m)\u001b[0m\u001b[1;33m)\u001b[0m\u001b[1;33m:\u001b[0m  \u001b[1;31m# start form 1024, shift 8 every time\u001b[0m\u001b[1;33m\u001b[0m\u001b[0m\n\u001b[0m\u001b[0;32m     45\u001b[0m     \u001b[1;31m#list.index()\u001b[0m\u001b[1;33m\u001b[0m\u001b[1;33m\u001b[0m\u001b[0m\n\u001b[0;32m     46\u001b[0m     \u001b[0max_violin\u001b[0m\u001b[1;33m.\u001b[0m\u001b[0mset_ylim\u001b[0m\u001b[1;33m(\u001b[0m\u001b[0mCONST_ACC_MIN\u001b[0m\u001b[1;33m,\u001b[0m \u001b[0mCONST_ACC_MAX\u001b[0m\u001b[1;33m)\u001b[0m\u001b[1;33m\u001b[0m\u001b[0m\n",
      "\u001b[1;31mNameError\u001b[0m: name 'tqdm' is not defined"
     ]
    }
   ],
   "source": [
    "#plt.savefig(\"sample.png\")\n",
    "CONST_ACC_MAX = 32\n",
    "# define the limits automatically\n",
    "#设置时域图和violin的y坐标的上下限\n",
    "CONST_ACC_MIN = -CONST_ACC_MAX\n",
    "CONST_CHART_WINDOW = 1024\n",
    "CONST_FFT_WINDOW = 1024\n",
    "CONST_VIOLIN_WINDOW = 32\n",
    "CONST_VIOLINS_WINDOW = 1024\n",
    "CONST_VIOLINS_DIV = 32\n",
    "CONST_SAMP_RATE = 32  # 采样率\n",
    "CONST_COLOR_STD_LMT = 128\n",
    "CONST_BLUE_RGB = [0, 0, 255]\n",
    "CONST_WHITE_RGB = [255, 255, 255]\n",
    "CONST_FFT_MIN = 0\n",
    "CONST_FFT_MAX = 1\n",
    "#可以从第几个帧开始绘制\n",
    "CONST_MIN_K = 0\n",
    "#帧图片文件夹\n",
    "CONST_FRAMES_DIR = \"dir_frames_toilet\"\n",
    "\n",
    "def whiten(ax, title):\n",
    "    spine = ['bottom', 'top', 'right', 'left']\n",
    "    for tickline in ax.xaxis.get_ticklines():\n",
    "        tickline.set_color('white')\n",
    "    for ticklabel in ax.xaxis.get_ticklabels():\n",
    "        ticklabel.set_color('white')\n",
    "    for tickline in ax.yaxis.get_ticklines():\n",
    "        tickline.set_color('white')\n",
    "    for ticklabel in ax.yaxis.get_ticklabels():\n",
    "        ticklabel.set_color('white')\n",
    "    for orien in spine:\n",
    "        ax.spines[orien].set_color('black')\n",
    "    ax.set_facecolor(\"black\")  # grey\n",
    "    title.set_color(\"white\")\n",
    "    title.set_fontsize('large')\n",
    "\n",
    "\n",
    "def whiten_violin(result):\n",
    "    for key in result:\n",
    "        if key is not 'bodies':\n",
    "            result[key].set_color('')\n",
    "            \n",
    "def violins_color_decide(color_relative):\n",
    "    if color_relative<2:\n",
    "        return [1,0,0]#red\n",
    "    elif color_relative<4:\n",
    "        return [255/255,128/255,0/255]#orange\n",
    "    elif color_relative<8:\n",
    "        return [255/255,255/255,0/255]#yellow\n",
    "    elif color_relative<16:\n",
    "        return [255/255,255/255,128/255]#light yellow\n",
    "    elif color_relative<32:\n",
    "        return [1,1,1]#WHITE\n",
    "    elif color_relative<64:\n",
    "        return [128/255,255/255,255/255]#light blue\n",
    "    else:\n",
    "        return [0,255/255,255]#plain blue\n",
    "            \n",
    "for k in tqdm(range(CONST_MIN_K, acc_list.size)):  # start form 1024, shift 8 every time\n",
    "    #list.index()\n",
    "    ax_violin.set_ylim(CONST_ACC_MIN, CONST_ACC_MAX)\n",
    "    ax_violins.set_ylim(CONST_ACC_MIN, CONST_ACC_MAX)\n",
    "    \n",
    "\n",
    "    # 绘制时域32s图\n",
    "    slice_start = k - CONST_FFT_WINDOW\n",
    "    slice_end = k\n",
    "    if slice_start < 0:\n",
    "        slice_start = 0\n",
    "    acc_slice = acc_list[slice_start:slice_end]\n",
    "    avg_slice = acc_avg[slice_start:slice_end]\n",
    "    std_slice = acc_std_list[slice_start:slice_end]\n",
    "    acc_slice = np.lib.pad(acc_slice, (CONST_CHART_WINDOW - acc_slice.size, 0), 'constant', constant_values=(0, 0))\n",
    "    avg_slice = np.lib.pad(avg_slice, (CONST_CHART_WINDOW - acc_slice.size, 0), 'constant', constant_values=(0, 0))\n",
    "    std_slice = np.lib.pad(std_slice, (CONST_CHART_WINDOW - acc_slice.size, 0), 'constant', constant_values=(0, 0))\n",
    "\n",
    "    ax_chart_32s.plot(acc_slice, 'w',avg_slice,\"y\")  # '--w'\n",
    "    ax_chart_32s.set_ylabel(\"avg and realtime\",color = \"w\")\n",
    "    ax_chart_32s.set_ylim(CONST_ACC_MIN, CONST_ACC_MAX)\n",
    "    title = ax_chart_32s.set_title(\"Realtime chart,Time: \" + str(acc_time[k]) + \"  Reading: \" + \"{:.2f}\".format(acc_list[k]) + \"mg\")\n",
    "    whiten(ax_chart_32s, title)\n",
    "    \n",
    "    #32s时域图上加std，双坐标系\n",
    "    ax_chart_32s_std = ax_chart_32s.twinx()\n",
    "    ax_chart_32s_std.plot(std_slice,\"g\")\n",
    "    ax_chart_32s_std.set_ylabel(\"std\",color = \"w\")\n",
    "    ax_chart_32s_std.set_ylim(-acc_std_max,acc_std_max)\n",
    "    whiten(ax_chart_32s_std, title)\n",
    "\n",
    "    #绘制时域1s\n",
    "    acc_slice_1s = acc_slice[-32:]\n",
    "    ax_chart_1s.plot(acc_slice_1s,'w')\n",
    "    ax_chart_1s.set_ylim(CONST_ACC_MIN, CONST_ACC_MAX)\n",
    "    title = ax_chart_1s.set_title(\"Last one second\")\n",
    "    whiten(ax_chart_1s, title)\n",
    "    \n",
    "    # 绘制FFT图\n",
    "    #########################################\n",
    "    fft_abs = abs(fft(acc_slice))\n",
    "    fft_norm = fft_abs / int(CONST_FFT_WINDOW)\n",
    "    fft_half = fft_norm[:int(CONST_FFT_WINDOW / 2)]\n",
    "    fft_half[0]=0\n",
    "\n",
    "    ax_FFT.bar(x=np.linspace(0, CONST_SAMP_RATE / 2, 513)[:-1],  # the first 128 points covers frequency from 0-16hz\n",
    "                   height=fft_half,width=0.032,bottom=0,align=\"center\",color=\"white\")\n",
    "\n",
    "    ax_FFT.xaxis.set_major_locator(MaxNLocator(nbins=20, prune='lower'))\n",
    "    title = ax_FFT.set_title(\"FFT chart:0 - 16Hz\")\n",
    "    whiten(ax_FFT, title)\n",
    "    ax_FFT.set_ylim(CONST_FFT_MIN, CONST_FFT_MAX)\n",
    "    ax_FFT.set_xlim(0, 16)  # 0-4hz\n",
    "\n",
    "    # 绘制violin图\n",
    "    ##########################################\n",
    "    slice_start = k - CONST_VIOLIN_WINDOW\n",
    "    slice_end = k\n",
    "    if slice_start < 0:\n",
    "        slice_start = 0\n",
    "    acc_slice = acc_list[slice_start:slice_end]\n",
    "    acc_slice = np.lib.pad(acc_slice, (CONST_VIOLIN_WINDOW - acc_slice.size, 0), 'constant', constant_values=(0, 0))\n",
    "    acc_slice_dataset = pd.DataFrame(acc_slice)\n",
    "    violin_mean = acc_slice_dataset[0].mean()\n",
    "    violin_std = acc_slice_dataset[0].std()\n",
    "    violin_mean_str = \"{:.5f}\".format(violin_mean)\n",
    "    violin_std_str = \"{:.5f}\".format(violin_std)\n",
    "\n",
    "    face_color = [(CONST_WHITE_RGB[i] - (CONST_WHITE_RGB[i] - CONST_BLUE_RGB[i]) * abs(violin_std / CONST_COLOR_STD_LMT)) / 255 for i in range(3)]\n",
    "    for color in face_color:\n",
    "        if color<0:\n",
    "            color=0\n",
    "\n",
    "    ###########seaborn violin#############\n",
    "    violinplot_ax = sns.violinplot(x=acc_slice, color=face_color, ax=ax_violin, linewidth=0,orient=\"v\")\n",
    "    ax.grid(False)\n",
    "    \n",
    "    title = ax_violin.set_title(\"Realtime violin. Mean: \" + violin_mean_str + \"  Std: \" + violin_std_str)\n",
    "    ax_violin.yaxis.set_major_locator(MaxNLocator(nbins=16, prune='lower'))\n",
    "    whiten(ax_violin, title)\n",
    "\n",
    "    # 绘制violins图\n",
    "    ################################\n",
    "    slice_start = k - CONST_VIOLINS_WINDOW\n",
    "    slice_end = k\n",
    "    if slice_start < 0:\n",
    "        slice_start = 0\n",
    "    acc_slice = acc_list[slice_start:slice_end]\n",
    "    acc_slice = np.lib.pad(acc_slice, (CONST_VIOLINS_WINDOW - acc_slice.size, 0), 'constant', constant_values=(0, 0))\n",
    "\n",
    "    violins_dataset = pd.DataFrame([acc_slice[int(t - CONST_VIOLINS_DIV):int(t)] for t in list(np.linspace(0, 1024, CONST_VIOLINS_DIV + 1)[1:])])\n",
    "    \n",
    "    color_list = []\n",
    "    for row in range(CONST_VIOLINS_DIV):\n",
    "        violins_color = abs(violins_dataset.loc[row, :].std())\n",
    "        violins_color_relative = violins_color / CONST_COLOR_STD_LMT\n",
    "        if violins_color_relative>1:\n",
    "            violins_color_relative=1\n",
    "        color_list.append(violins_color_decide(violins_color_relative*128))\n",
    "        \n",
    "    violins_result = ax_violins.violinplot(dataset=violins_dataset)\n",
    "    ax_violins.yaxis.set_major_locator(MaxNLocator(nbins=(CONST_ACC_MAX / 4) + 1, prune='lower'))\n",
    "    \n",
    "    for pc in range(len(violins_result['bodies'])):\n",
    "        violins_result['bodies'][pc].set_facecolor(color_list[pc])\n",
    "        violins_result['bodies'][pc].set_edgecolor(color_list[pc])\n",
    "        violins_result['bodies'][pc].set_alpha(1.0)\n",
    "    \n",
    "    title = ax_violins.set_title(\"History violins\")\n",
    "    ax_violins.yaxis.set_major_locator(MaxNLocator(nbins=16, prune='lower'))\n",
    "    whiten(ax_violins, title)\n",
    "    whiten_violin(violins_result)\n",
    "    \n",
    "    # 调整 video框\n",
    "    ax_video.set_facecolor(\"black\")\n",
    "    spine = ['bottom', 'top', 'right', 'left']\n",
    "    for orien in spine:\n",
    "        ax_video.spines[orien].set_color('white')\n",
    "    ax_video.axis(option=False)\n",
    "\n",
    "    # save figs\n",
    "    fig.savefig(\"dir_frames_printer/\" + str(10000000000 + acc_ms[k]) + '.png', facecolor=fig.get_facecolor(), edgecolor='none')\n",
    "    ax_chart_32s.cla()\n",
    "    ax_chart_32s_std.cla()\n",
    "    ax_chart_1s.cla()\n",
    "    ax_FFT.cla()\n",
    "    ax_violin.cla()\n",
    "    ax_violins.cla()\n"
   ]
  },
  {
   "cell_type": "code",
   "execution_count": null,
   "metadata": {},
   "outputs": [],
   "source": [
    " "
   ]
  },
  {
   "cell_type": "code",
   "execution_count": null,
   "metadata": {},
   "outputs": [],
   "source": []
  },
  {
   "cell_type": "code",
   "execution_count": null,
   "metadata": {},
   "outputs": [],
   "source": []
  }
 ],
 "metadata": {
  "kernelspec": {
   "display_name": "Python 3",
   "language": "python",
   "name": "python3"
  },
  "language_info": {
   "codemirror_mode": {
    "name": "ipython",
    "version": 3
   },
   "file_extension": ".py",
   "mimetype": "text/x-python",
   "name": "python",
   "nbconvert_exporter": "python",
   "pygments_lexer": "ipython3",
   "version": "3.7.0"
  }
 },
 "nbformat": 4,
 "nbformat_minor": 2
}
